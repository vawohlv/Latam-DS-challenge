{
 "cells": [
  {
   "cell_type": "markdown",
   "id": "05570847",
   "metadata": {},
   "source": [
    "# LATAM Data Science Challenge"
   ]
  },
  {
   "cell_type": "markdown",
   "id": "5cade42a",
   "metadata": {},
   "source": [
    "Libraries installation (if needed)"
   ]
  },
  {
   "cell_type": "code",
   "execution_count": null,
   "id": "d2d9f26f",
   "metadata": {},
   "outputs": [],
   "source": [
    "#!pip install pandas\n",
    "#!pip isntall matplotlib\n",
    "#!pip install seaborn\n",
    "#!pip install scikit-learn"
   ]
  },
  {
   "cell_type": "markdown",
   "id": "0d14acd8",
   "metadata": {},
   "source": [
    "#### Libraries definition"
   ]
  },
  {
   "cell_type": "code",
   "execution_count": null,
   "id": "64bb8edd",
   "metadata": {},
   "outputs": [],
   "source": [
    "import pandas as pd\n",
    "import seaborn as sns\n",
    "from matplotlib import pyplot as plt\n",
    "from sklearn.preprocessing import LabelEncoder"
   ]
  },
  {
   "cell_type": "markdown",
   "id": "4ebd36b0",
   "metadata": {},
   "source": [
    "#### Creating the DataFrame and analyzing the data"
   ]
  },
  {
   "cell_type": "code",
   "execution_count": null,
   "id": "90789866",
   "metadata": {},
   "outputs": [],
   "source": [
    "df = pd.read_csv('dataset_SCL.csv', low_memory=False)\n",
    "df.head(10)"
   ]
  },
  {
   "cell_type": "code",
   "execution_count": null,
   "id": "9935d78d",
   "metadata": {},
   "outputs": [],
   "source": [
    "df.describe()"
   ]
  },
  {
   "cell_type": "code",
   "execution_count": null,
   "id": "97d2221a",
   "metadata": {},
   "outputs": [],
   "source": [
    "for column in df.columns:\n",
    "    unique_val = df[column].unique()\n",
    "    unique_val_sorted = sorted(map(str, unique_val))\n",
    "    print(f\"Unique values for colum '{column}': {unique_val_sorted}\")"
   ]
  },
  {
   "cell_type": "code",
   "execution_count": null,
   "id": "74bbe234",
   "metadata": {},
   "outputs": [],
   "source": [
    "destinies = df['SIGLADES'].value_counts()\n",
    "\n",
    "# So it will show me all the destinies\n",
    "pd.set_option('display.max_rows', None)\n",
    "\n",
    "print(destinies)"
   ]
  },
  {
   "cell_type": "code",
   "execution_count": null,
   "id": "3649ce5d",
   "metadata": {},
   "outputs": [],
   "source": [
    "fig, ax = plt.subplots(1, 3, figsize=(20, 5))\n",
    "\n",
    "sns.countplot(data=df, x='TIPOVUELO', ax=ax[0], order=sorted(df['TIPOVUELO'].unique()))\n",
    "ax[0].set_xlabel('Type of Flight')\n",
    "ax[0].set_ylabel('Frequency')\n",
    "ax[0].set_title('Type of Flight comparison')\n",
    "\n",
    "week_sorted = ['Lunes', 'Martes', 'Miercoles', 'Jueves', 'Viernes', 'Sabado', 'Domingo']\n",
    "\n",
    "week_avg = df['DIANOM'].value_counts().mean()\n",
    "\n",
    "sns.countplot(data=df, x='DIANOM', ax=ax[1],order=week_sorted)\n",
    "ax[1].set_xlabel('Weekday')\n",
    "ax[1].set_ylabel('Frequency')\n",
    "ax[1].set_title('Weekday analysis')\n",
    "\n",
    "ax[1].axhline(week_avg, color='Black', linestyle='--')\n",
    "#ax[1].legend()\n",
    "\n",
    "mo_avg = df['MES'].value_counts().mean()\n",
    "\n",
    "sns.countplot(data=df, x='MES', ax=ax[2],order=sorted(df['MES'].unique()))\n",
    "ax[2].set_xlabel('Month')\n",
    "ax[2].set_ylabel('Frequency')\n",
    "ax[2].set_title('Month analysis')\n",
    "\n",
    "ax[2].axhline(mo_avg, color='Black', linestyle='--')\n",
    "#ax[2].legend()\n",
    "\n",
    "# For adjust the space between the subplots\n",
    "plt.tight_layout()\n",
    "\n",
    "plt.show()"
   ]
  },
  {
   "cell_type": "markdown",
   "id": "7904680e",
   "metadata": {},
   "source": [
    "### 1. How is the data distributed? Did you find any noteworthy insight to share? What can you conclude about this?\n",
    "\n",
    "- It is a dataset with flights done on 2017.\n",
    "- The flights consider destinies on American, Oceanic and European cities.\n",
    "- The most frequent destinies are Chilean cities, but we can't exclude a lot of travels also to cities in closest countries like Argentina, Peru and Brazil.\n",
    "- The National flights are more common that the International ones, but it differs in less than 5K of travels.\n",
    "- Saturday is the week day with less flights registered.\n",
    "- January, July, October, November and December seems to be the months in which people travel consideraly in relation to the annual average.\n",
    "\n",
    "### 2. Generate the following additional columns. Please export them to a CSV file named synthetic_features.csv:\n",
    "\n",
    "- high_season : 1 if Date-I is between **Dec-15 and Mar-3**, or **Jul-15 and Jul-31**, or **Sep-11 and Sep-30**, 0 otherwise.\n",
    "- min_diff : difference in minutes between Date-O and Date-I .\n",
    "- delay_15 : 1 if min_diff > 15, 0 if not.\n",
    "- period_day : morning (between 5:00 and 11:59), afternoon (between 12:00 and 18:59) and night (between 19:00 and 4:59), based onDate-I ."
   ]
  },
  {
   "cell_type": "code",
   "execution_count": null,
   "id": "2abee190",
   "metadata": {},
   "outputs": [],
   "source": [
    "# We create a copy to maintain the integrity of the original dataframe in case is required\n",
    "df2 = df.copy()\n",
    "\n",
    "df2['Fecha-I'] = pd.to_datetime(df2['Fecha-I'], format='%Y-%m-%d')\n",
    "\n",
    "\n",
    "def high_season(dt):\n",
    "    rang1 = (dt >= pd.to_datetime('2017-12-15')) & (dt <= pd.to_datetime('2018-03-03'))\n",
    "    rang2 = (dt >= pd.to_datetime('2017-07-15')) & (dt <= pd.to_datetime('2017-07-31'))\n",
    "    rang3 = (dt >= pd.to_datetime('2017-09-11')) & (dt <= pd.to_datetime('2017-09-30'))\n",
    "    return 1 if (rang1 or rang2 or rang3) else 0\n",
    "\n",
    "# We apply the function for High Seasons\n",
    "df2['high_season'] = df2['Fecha-I'].apply(high_season)\n",
    "\n",
    "#min_diff\n",
    "\n",
    "df2['Fecha-I'] = pd.to_datetime(df2['Fecha-I'])\n",
    "df2['Fecha-O'] = pd.to_datetime(df2['Fecha-O'])\n",
    "\n",
    "df2['min_diff'] = (df2['Fecha-O'] - df2['Fecha-I']).dt.total_seconds() / 60\n",
    "\n",
    "def delay_15(time):\n",
    "    return 1 if (time > 15) else 0\n",
    "\n",
    "df2['delay_15'] = df2['min_diff'].apply(delay_15)\n",
    "    \n",
    "def period(time):\n",
    "    hour = time.hour\n",
    "    if 5 <= hour <= 11:\n",
    "        return 'morning'\n",
    "    elif 12 <= hour <= 18:\n",
    "        return 'afternoon'\n",
    "    else:\n",
    "        return 'night'\n",
    "    \n",
    "df2['period_day'] = df2['Fecha-I'].apply(period)\n",
    "\n",
    "df2.to_csv('synthetic_features.csv', sep=';', index=False)\n",
    "\n",
    "print('Please check the synthetic_features.csv file')"
   ]
  },
  {
   "cell_type": "markdown",
   "id": "cc338174",
   "metadata": {},
   "source": [
    "### 3. What is the behavior of the delay rate across destination, airline, month of the year, day of the week, season, type of flight?What variables would you expect to have the most influence in predicting delays?\n",
    "\n",
    "For answering these questions, let's create a new DataFrame with the commented columns and analyze the correlation matrix for Delay Rate across the other columns mentioned. "
   ]
  },
  {
   "cell_type": "code",
   "execution_count": null,
   "id": "e77631df",
   "metadata": {},
   "outputs": [],
   "source": [
    "commented_columns = ['SIGLADES', 'OPERA', 'MES', 'DIANOM', 'high_season', 'TIPOVUELO', 'delay_15']\n",
    "df3 = df2[commented_columns]\n",
    "\n",
    "le = LabelEncoder()\n",
    "df3['TIPOVUELO_cod'] = le.fit_transform(df['TIPOVUELO'])\n",
    "df3['SIGLADES_cod'] = le.fit_transform(df['SIGLADES'])\n",
    "df3['OPERA_cod'] = le.fit_transform(df['OPERA'])\n",
    "\n",
    "#df3 = pd.get_dummies(df3, columns=['SIGLADES', 'OPERA'])\n",
    "\n",
    "df3.drop(columns=['TIPOVUELO', 'SIGLADES', 'OPERA'], inplace=True)\n",
    "\n",
    "df3\n"
   ]
  }
 ],
 "metadata": {
  "kernelspec": {
   "display_name": "Python 3 (ipykernel)",
   "language": "python",
   "name": "python3"
  },
  "language_info": {
   "codemirror_mode": {
    "name": "ipython",
    "version": 3
   },
   "file_extension": ".py",
   "mimetype": "text/x-python",
   "name": "python",
   "nbconvert_exporter": "python",
   "pygments_lexer": "ipython3",
   "version": "3.9.5"
  }
 },
 "nbformat": 4,
 "nbformat_minor": 5
}
